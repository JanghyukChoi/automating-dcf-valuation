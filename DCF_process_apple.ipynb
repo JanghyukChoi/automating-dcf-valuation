{
  "nbformat": 4,
  "nbformat_minor": 0,
  "metadata": {
    "colab": {
      "provenance": []
    },
    "kernelspec": {
      "name": "python3",
      "display_name": "Python 3"
    },
    "language_info": {
      "name": "python"
    }
  },
  "cells": [
    {
      "cell_type": "code",
      "source": [
        "pip install finance-datareader # pip 설치\n"
      ],
      "metadata": {
        "colab": {
          "base_uri": "https://localhost:8080/"
        },
        "id": "STD3Ytr5w1rs",
        "outputId": "34b27d44-c3fe-4093-9abb-32045ac8a141"
      },
      "execution_count": null,
      "outputs": [
        {
          "output_type": "stream",
          "name": "stdout",
          "text": [
            "Collecting finance-datareader\n",
            "  Downloading finance_datareader-0.9.96-py3-none-any.whl.metadata (12 kB)\n",
            "Requirement already satisfied: beautifulsoup4 in /usr/local/lib/python3.11/dist-packages (from finance-datareader) (4.13.4)\n",
            "Requirement already satisfied: lxml in /usr/local/lib/python3.11/dist-packages (from finance-datareader) (5.4.0)\n",
            "Requirement already satisfied: pandas>=1.1.0 in /usr/local/lib/python3.11/dist-packages (from finance-datareader) (2.2.2)\n",
            "Requirement already satisfied: plotly in /usr/local/lib/python3.11/dist-packages (from finance-datareader) (5.24.1)\n",
            "Collecting requests-file (from finance-datareader)\n",
            "  Downloading requests_file-2.1.0-py2.py3-none-any.whl.metadata (1.7 kB)\n",
            "Requirement already satisfied: requests>=2.3.0 in /usr/local/lib/python3.11/dist-packages (from finance-datareader) (2.32.3)\n",
            "Requirement already satisfied: tqdm in /usr/local/lib/python3.11/dist-packages (from finance-datareader) (4.67.1)\n",
            "Requirement already satisfied: numpy>=1.23.2 in /usr/local/lib/python3.11/dist-packages (from pandas>=1.1.0->finance-datareader) (2.0.2)\n",
            "Requirement already satisfied: python-dateutil>=2.8.2 in /usr/local/lib/python3.11/dist-packages (from pandas>=1.1.0->finance-datareader) (2.9.0.post0)\n",
            "Requirement already satisfied: pytz>=2020.1 in /usr/local/lib/python3.11/dist-packages (from pandas>=1.1.0->finance-datareader) (2025.2)\n",
            "Requirement already satisfied: tzdata>=2022.7 in /usr/local/lib/python3.11/dist-packages (from pandas>=1.1.0->finance-datareader) (2025.2)\n",
            "Requirement already satisfied: charset-normalizer<4,>=2 in /usr/local/lib/python3.11/dist-packages (from requests>=2.3.0->finance-datareader) (3.4.2)\n",
            "Requirement already satisfied: idna<4,>=2.5 in /usr/local/lib/python3.11/dist-packages (from requests>=2.3.0->finance-datareader) (3.10)\n",
            "Requirement already satisfied: urllib3<3,>=1.21.1 in /usr/local/lib/python3.11/dist-packages (from requests>=2.3.0->finance-datareader) (2.4.0)\n",
            "Requirement already satisfied: certifi>=2017.4.17 in /usr/local/lib/python3.11/dist-packages (from requests>=2.3.0->finance-datareader) (2025.4.26)\n",
            "Requirement already satisfied: soupsieve>1.2 in /usr/local/lib/python3.11/dist-packages (from beautifulsoup4->finance-datareader) (2.7)\n",
            "Requirement already satisfied: typing-extensions>=4.0.0 in /usr/local/lib/python3.11/dist-packages (from beautifulsoup4->finance-datareader) (4.14.0)\n",
            "Requirement already satisfied: tenacity>=6.2.0 in /usr/local/lib/python3.11/dist-packages (from plotly->finance-datareader) (9.1.2)\n",
            "Requirement already satisfied: packaging in /usr/local/lib/python3.11/dist-packages (from plotly->finance-datareader) (24.2)\n",
            "Requirement already satisfied: six>=1.5 in /usr/local/lib/python3.11/dist-packages (from python-dateutil>=2.8.2->pandas>=1.1.0->finance-datareader) (1.17.0)\n",
            "Downloading finance_datareader-0.9.96-py3-none-any.whl (48 kB)\n",
            "\u001b[2K   \u001b[90m━━━━━━━━━━━━━━━━━━━━━━━━━━━━━━━━━━━━━━━━\u001b[0m \u001b[32m48.2/48.2 kB\u001b[0m \u001b[31m3.2 MB/s\u001b[0m eta \u001b[36m0:00:00\u001b[0m\n",
            "\u001b[?25hDownloading requests_file-2.1.0-py2.py3-none-any.whl (4.2 kB)\n",
            "Installing collected packages: requests-file, finance-datareader\n",
            "Successfully installed finance-datareader-0.9.96 requests-file-2.1.0\n"
          ]
        }
      ]
    },
    {
      "cell_type": "markdown",
      "source": [
        "# 기업의 Beta 구하는 방법"
      ],
      "metadata": {
        "id": "ceH0oU-6wUsf"
      }
    },
    {
      "cell_type": "code",
      "execution_count": null,
      "metadata": {
        "colab": {
          "base_uri": "https://localhost:8080/"
        },
        "id": "neLzeCLvrGYp",
        "outputId": "53e21e91-4af6-4826-8760-f31022671d74"
      },
      "outputs": [
        {
          "output_type": "stream",
          "name": "stdout",
          "text": [
            "YF.download() has changed argument auto_adjust default to True\n"
          ]
        },
        {
          "output_type": "stream",
          "name": "stderr",
          "text": [
            "[*********************100%***********************]  1 of 1 completed\n",
            "[*********************100%***********************]  1 of 1 completed"
          ]
        },
        {
          "output_type": "stream",
          "name": "stdout",
          "text": [
            "Raw Beta: 1.3088\n",
            "Adjusted Beta (Blume): 1.2059\n"
          ]
        },
        {
          "output_type": "stream",
          "name": "stderr",
          "text": [
            "\n"
          ]
        }
      ],
      "source": [
        "import yfinance as yf\n",
        "import pandas as pd\n",
        "import numpy as np\n",
        "import statsmodels.api as sm\n",
        "import datetime\n",
        "\n",
        "# 티커 설정\n",
        "stock_ticker = '005380.KS'    # 분석할 기업의 티커 (예: 특정 한국 기업)\n",
        "market_ticker = '^KS11'       # 시장 지수의 티커 (S&P 500)\n",
        "\n",
        "# 데이터 다운로드 (과거 3년간 주간 데이터)\n",
        "end_date = datetime.datetime.today()\n",
        "start_date = end_date - datetime.timedelta(days=5*365)\n",
        "\n",
        "# 주간 데이터 다운로드: interval='1wk'\n",
        "stock_data = yf.download(stock_ticker, start=start_date, end=end_date, interval='1wk')\n",
        "market_data = yf.download(market_ticker, start=start_date, end=end_date, interval='1wk')\n",
        "\n",
        "# 종가(Close) 추출\n",
        "stock_close = stock_data['Close']\n",
        "market_close = market_data['Close']\n",
        "\n",
        "# 일주일 간의 수익률 계산 (비율로 표현)\n",
        "stock_returns = stock_close.pct_change().dropna()\n",
        "market_returns = market_close.pct_change().dropna()\n",
        "\n",
        "# 두 데이터의 결합 (동일한 날짜로 정렬)\n",
        "data = pd.concat([stock_returns, market_returns], axis=1).dropna()\n",
        "data.columns = ['Stock_Return', 'Market_Return']\n",
        "\n",
        "# 독립 변수에 상수항 추가 (절편)\n",
        "X = sm.add_constant(data['Market_Return'])  # X 변수: 시장 수익률\n",
        "Y = data['Stock_Return']                    # Y 변수: 기업 수익률\n",
        "\n",
        "# 회귀 모델 피팅\n",
        "model = sm.OLS(Y, X).fit()\n",
        "\n",
        "# Raw Beta 추출\n",
        "raw_beta = model.params['Market_Return']\n",
        "print(f\"Raw Beta: {raw_beta:.4f}\")\n",
        "\n",
        "# Adjusted Beta 계산 (Blume 조정법)\n",
        "adjusted_beta = (2/3) * raw_beta + (1/3) * 1.0\n",
        "print(f\"Adjusted Beta (Blume): {adjusted_beta:.4f}\")\n"
      ]
    },
    {
      "cell_type": "markdown",
      "source": [
        "#코스피 연평균 수익률"
      ],
      "metadata": {
        "id": "GSkEKamGuc6A"
      }
    },
    {
      "cell_type": "code",
      "source": [
        "import yfinance as yf\n",
        "import pandas as pd\n",
        "import numpy as np\n",
        "import datetime\n",
        "\n",
        "# 티커 설정\n",
        "market_ticker = '^KS11'  # 코스피 지수의 티커\n",
        "\n",
        "# 데이터 다운로드 기간 설정 (과거 3년간 주간 데이터)\n",
        "end_date = datetime.datetime.today()\n",
        "start_date = end_date - datetime.timedelta(days=5*365)\n",
        "\n",
        "# 주간 데이터 다운로드: interval='1wk'\n",
        "market_data = yf.download(market_ticker, start=start_date, end=end_date, interval='1wk')\n",
        "\n",
        "# 종가(Close) 추출\n",
        "market_close = market_data['Close']\n",
        "\n",
        "# 데이터가 정상적으로 다운로드되었는지 확인\n",
        "if market_close.empty:\n",
        "    raise ValueError(\"데이터를 다운로드할 수 없습니다. 티커가 올바른지 확인해주세요.\")\n",
        "\n",
        "# 시작값과 종료값 추출 (숫자형으로 변환)\n",
        "begin_value = market_close.iloc[0].item()\n",
        "end_value = market_close.iloc[-1].item()\n",
        "\n",
        "# 데이터 기간 (연 단위)\n",
        "number_of_years = 3\n",
        "\n",
        "# CAGR 계산\n",
        "cagr = (end_value / begin_value) ** (1 / number_of_years) - 1\n",
        "\n",
        "# 결과 출력\n",
        "print(f\"시작 종가 (3년 전): {begin_value:.2f} \")\n",
        "print(f\"종료 종가 (현재): {end_value:.2f} \")\n",
        "print(f\"연평균 수익률 (CAGR): {cagr:.2%}\")\n"
      ],
      "metadata": {
        "colab": {
          "base_uri": "https://localhost:8080/"
        },
        "id": "FlHHb-9iufWi",
        "outputId": "d3a7c12c-bfe9-43ac-f19c-7cebe229466f"
      },
      "execution_count": null,
      "outputs": [
        {
          "output_type": "stream",
          "name": "stderr",
          "text": [
            "\r[*********************100%***********************]  1 of 1 completed"
          ]
        },
        {
          "output_type": "stream",
          "name": "stdout",
          "text": [
            "시작 종가 (3년 전): 2132.30 \n",
            "종료 종가 (현재): 2855.77 \n",
            "연평균 수익률 (CAGR): 10.23%\n"
          ]
        },
        {
          "output_type": "stream",
          "name": "stderr",
          "text": [
            "\n"
          ]
        }
      ]
    },
    {
      "cell_type": "markdown",
      "source": [
        "# risk free rate (한국 국채 10년물 수익률)"
      ],
      "metadata": {
        "id": "sHX2ycr6wTVw"
      }
    },
    {
      "cell_type": "code",
      "source": [
        "from datetime import datetime, timedelta\n",
        "from FinanceDataReader.investing.data import InvestingDailyReader\n",
        "\n",
        "end = datetime.now().strftime(\"%Y-%m-%d\")\n",
        "start = (datetime.now() - timedelta(20)).strftime(\"%Y-%m-%d\")\n",
        "\n",
        "reader = InvestingDailyReader(symbol=\"KR10YT=RR\", start=start, end=end)\n",
        "data = reader.read()\n",
        "\n",
        "\n",
        "data['Close'].iloc[-1]"
      ],
      "metadata": {
        "colab": {
          "base_uri": "https://localhost:8080/"
        },
        "id": "tYsa2rOkwTqI",
        "outputId": "bc42c801-2aac-4ade-e90d-cf57fb5b53a4"
      },
      "execution_count": null,
      "outputs": [
        {
          "output_type": "execute_result",
          "data": {
            "text/plain": [
              "np.float64(2.837)"
            ]
          },
          "metadata": {},
          "execution_count": 5
        }
      ]
    },
    {
      "cell_type": "markdown",
      "source": [
        "총 WACC 계산함수"
      ],
      "metadata": {
        "id": "Mu7mDqPRtJBR"
      }
    },
    {
      "cell_type": "code",
      "source": [
        "def calculate_wacc(stock_ticker, market_ticker='000660.KS', risk_free_rate=0.03, market_risk_premium=0.05):\n",
        "    # 데이터 다운로드\n",
        "    end_date = datetime.today()\n",
        "    start_date = end_date - timedelta(days=5*365)\n",
        "\n",
        "    stock_data = yf.download(stock_ticker, start=start_date, end=end_date)\n",
        "    market_data = yf.download(market_ticker, start=start_date, end=end_date)\n",
        "\n",
        "    # 종가 추출\n",
        "    stock_close = stock_data['Close']\n",
        "    market_close = market_data['Close']\n",
        "\n",
        "    # 일일 수익률 계산\n",
        "    stock_returns = stock_close.pct_change().dropna()\n",
        "    market_returns = market_close.pct_change().dropna()\n",
        "\n",
        "    # 데이터 결합 및 정렬\n",
        "    data = pd.concat([stock_returns, market_returns], axis=1).dropna()\n",
        "    data.columns = ['Stock_Return', 'Market_Return']\n",
        "\n",
        "    # Raw Beta 계산 (OLS 사용)\n",
        "    X = sm.add_constant(data['Market_Return'])\n",
        "    Y = data['Stock_Return']\n",
        "\n",
        "    model = sm.OLS(Y, X).fit()\n",
        "    raw_beta = model.params['Market_Return']\n",
        "\n",
        "    # Adjusted Beta 계산 (Blume 조정법)\n",
        "    adjusted_beta = (2/3) * raw_beta + (1/3) * 1.0\n",
        "\n",
        "    # Cost of Equity (Re) 계산\n",
        "    Re = risk_free_rate + adjusted_beta * market_risk_premium\n",
        "\n",
        "    # 재무제표 가져오기\n",
        "    ticker = yf.Ticker(stock_ticker)\n",
        "    income_statement = ticker.financials\n",
        "    balance_sheet = ticker.balance_sheet\n",
        "\n",
        "    # 이자 비용 추출\n",
        "    if 'Interest Expense' in income_statement.index :\n",
        "        interest_expense = income_statement.loc['Interest Expense'][0]\n",
        "        if income_statement.loc['Interest Expense'][0] != True:\n",
        "          interest_expense = income_statement.loc['Interest Expense'][1]\n",
        "    elif 'Interest and Other Financing Expenses' in income_statement.index:\n",
        "        interest_expense = income_statement.loc['Interest and Other Financing Expenses'][0]\n",
        "    else:\n",
        "        raise ValueError(\"이자 비용 항목을 찾을 수 없습니다.\")\n",
        "\n",
        "    # 총 부채 추출\n",
        "    if 'Total Debt' in balance_sheet.index:\n",
        "        total_debt = balance_sheet.loc['Total Debt'][0]\n",
        "    elif 'Long Term Debt' in balance_sheet.index and 'Short Long Term Debt' in balance_sheet.index:\n",
        "        total_debt = balance_sheet.loc['Long Term Debt'][0] + balance_sheet.loc['Short Long Term Debt'][0]\n",
        "    else:\n",
        "        raise ValueError(\"총 부채 항목을 찾을 수 없습니다.\")\n",
        "\n",
        "    # Cost of Debt (Rd) 계산\n",
        "    Rd = interest_expense / total_debt\n",
        "\n",
        "    # 법인세 비용 및 세전 이익 추출\n",
        "    if 'Income Tax Expense' in income_statement.index:\n",
        "        income_tax_expense = income_statement.loc['Income Tax Expense'][0]\n",
        "    elif 'Income Tax Expense Benefit' in income_statement.index:\n",
        "        income_tax_expense = income_statement.loc['Income Tax Expense Benefit'][0]\n",
        "    elif 'Tax Provision' in income_statement.index:\n",
        "        income_tax_expense = income_statement.loc['Tax Provision'][0]\n",
        "    else:\n",
        "        raise ValueError(\"법인세 비용 항목을 찾을 수 없습니다.\")\n",
        "\n",
        "    if 'Income Before Tax' in income_statement.index:\n",
        "        ebt = income_statement.loc['Income Before Tax'][0]\n",
        "    elif 'Pretax Income' in income_statement.index:\n",
        "        ebt = income_statement.loc['Pretax Income'][0]\n",
        "    else:\n",
        "        raise ValueError(\"세전 이익 항목을 찾을 수 없습니다.\")\n",
        "\n",
        "    # Corporate Tax Rate (Tc) 계산\n",
        "    Tc = income_tax_expense / ebt\n",
        "\n",
        "    # 자기자본 (Equity, E): 시가총액\n",
        "    market_cap = ticker.info['marketCap']\n",
        "    E = market_cap\n",
        "\n",
        "    # 타인자본 (Debt, D): 총 부채\n",
        "    D = total_debt\n",
        "\n",
        "    # 전체 자본 (V = E + D)\n",
        "    V = E + D\n",
        "\n",
        "    # 자본 구조 비율 계산\n",
        "    E_V = E / V\n",
        "    D_V = D / V\n",
        "\n",
        "    # WACC 계산\n",
        "    WACC = (E_V * Re) + (D_V * Rd * (1 - Tc))\n",
        "\n",
        "    return {\n",
        "        'Raw Beta': raw_beta,\n",
        "        'Adjusted Beta': adjusted_beta,\n",
        "        'Cost of Equity (Re)': Re,\n",
        "        'Cost of Debt (Rd)': Rd,\n",
        "        'Corporate Tax Rate (Tc)': Tc,\n",
        "        'Market Capitalization (E)': E,\n",
        "        'Total Debt (D)': D,\n",
        "        'Total Capital (V)': V,\n",
        "        'Equity Ratio (E/V)': E_V,\n",
        "        'Debt Ratio (D/V)': D_V,\n",
        "        'WACC': WACC\n",
        "    }\n",
        "\n",
        "# 함수 사용 예시\n",
        "wacc_info = calculate_wacc('AAPL')\n",
        "for key, value in wacc_info.items():\n",
        "    if 'Ratio' in key or 'Tax Rate' in key or 'Cost' in key:\n",
        "        print(f\"{key}: {value:.2%}\")\n",
        "    else:\n",
        "        print(f\"{key}: {value:.4f}\")\n"
      ],
      "metadata": {
        "id": "i7FtZ9-rr80J",
        "colab": {
          "base_uri": "https://localhost:8080/"
        },
        "outputId": "257ec0d1-5a0c-480b-e8bd-161beaf5939a"
      },
      "execution_count": 16,
      "outputs": [
        {
          "output_type": "stream",
          "name": "stderr",
          "text": [
            "[*********************100%***********************]  1 of 1 completed\n",
            "[*********************100%***********************]  1 of 1 completed\n",
            "<ipython-input-16-db4b1eec136f>:41: FutureWarning: Series.__getitem__ treating keys as positions is deprecated. In a future version, integer keys will always be treated as labels (consistent with DataFrame behavior). To access a value by position, use `ser.iloc[pos]`\n",
            "  interest_expense = income_statement.loc['Interest Expense'][0]\n",
            "<ipython-input-16-db4b1eec136f>:42: FutureWarning: Series.__getitem__ treating keys as positions is deprecated. In a future version, integer keys will always be treated as labels (consistent with DataFrame behavior). To access a value by position, use `ser.iloc[pos]`\n",
            "  if income_statement.loc['Interest Expense'][0] != True:\n",
            "<ipython-input-16-db4b1eec136f>:43: FutureWarning: Series.__getitem__ treating keys as positions is deprecated. In a future version, integer keys will always be treated as labels (consistent with DataFrame behavior). To access a value by position, use `ser.iloc[pos]`\n",
            "  interest_expense = income_statement.loc['Interest Expense'][1]\n",
            "<ipython-input-16-db4b1eec136f>:51: FutureWarning: Series.__getitem__ treating keys as positions is deprecated. In a future version, integer keys will always be treated as labels (consistent with DataFrame behavior). To access a value by position, use `ser.iloc[pos]`\n",
            "  total_debt = balance_sheet.loc['Total Debt'][0]\n",
            "<ipython-input-16-db4b1eec136f>:66: FutureWarning: Series.__getitem__ treating keys as positions is deprecated. In a future version, integer keys will always be treated as labels (consistent with DataFrame behavior). To access a value by position, use `ser.iloc[pos]`\n",
            "  income_tax_expense = income_statement.loc['Tax Provision'][0]\n",
            "<ipython-input-16-db4b1eec136f>:73: FutureWarning: Series.__getitem__ treating keys as positions is deprecated. In a future version, integer keys will always be treated as labels (consistent with DataFrame behavior). To access a value by position, use `ser.iloc[pos]`\n",
            "  ebt = income_statement.loc['Pretax Income'][0]\n"
          ]
        },
        {
          "output_type": "stream",
          "name": "stdout",
          "text": [
            "Raw Beta: 0.0122\n",
            "Adjusted Beta: 0.3414\n",
            "Cost of Equity (Re): 4.71%\n",
            "Cost of Debt (Rd): 3.69%\n",
            "Corporate Tax Rate (Tc): 24.09%\n",
            "Market Capitalization (E): 3008816742400.0000\n",
            "Total Debt (D): 106629000000.0000\n",
            "Total Capital (V): 3115445742400.0000\n",
            "Equity Ratio (E/V): 96.58%\n",
            "Debt Ratio (D/V): 3.42%\n",
            "WACC: 0.0464\n"
          ]
        }
      ]
    },
    {
      "cell_type": "code",
      "source": [
        "import yfinance as yf\n",
        "import pandas as pd\n",
        "import numpy as np\n",
        "\n",
        "# ----------------------------------------------------------------------\n",
        "# 0. 파라미터\n",
        "# ----------------------------------------------------------------------\n",
        "TICKER   = \"AAPL\"\n",
        "LOOKBACK = 5           # 최근 5개 회계연도 사용\n",
        "YEARS_FC = 5           # 앞으로 예측할 연도 수\n",
        "WACC     = 0.09\n",
        "G_TERMINAL = 0.02\n",
        "\n",
        "# ----------------------------------------------------------------------\n",
        "# 1. yfinance → 핵심 항목 5줄짜리 DataFrame 만들기\n",
        "# ----------------------------------------------------------------------\n",
        "def grab_row(df, *labels):\n",
        "    \"\"\"df.index 안 첫 번째 존재 라벨 Series 반환 (없으면 NaN Series).\"\"\"\n",
        "    for lab in labels:\n",
        "        if lab in df.index:\n",
        "            return df.loc[lab]\n",
        "    return pd.Series([np.nan] * df.shape[1], index=df.columns)\n",
        "\n",
        "tk   = yf.Ticker(TICKER)\n",
        "inc  = tk.financials.iloc[:, :LOOKBACK].iloc[:, ::-1]   # Income Statement\n",
        "cfs  = tk.cashflow.iloc[:, :LOOKBACK].iloc[:, ::-1]     # Cash-flow Statement\n",
        "\n",
        "df = pd.DataFrame({\n",
        "    \"revenue\"    : grab_row(inc, \"Total Revenue\", \"Revenue\"),\n",
        "    \"ebit\"       : grab_row(inc, \"Operating Income\", \"EBIT\"),\n",
        "    \"tax\"        : grab_row(inc, \"Tax Provision\", \"Income Tax Expense\"),\n",
        "    \"dep\"        : grab_row(cfs, \"Depreciation And Amortization\",\n",
        "                                  \"Depreciation & Amortization\",\n",
        "                                  \"Depreciation\"),\n",
        "    \"nwc_change\" : grab_row(cfs, \"Change In Working Capital\",\n",
        "                                  \"Change In Operating Assets And Liabilities\")\n",
        "}).astype(float)\n",
        "\n",
        "# 결측치 많으면 드롭\n",
        "df = df.dropna(how=\"all\")\n",
        "\n",
        "# ----------------------------------------------------------------------\n",
        "# 2. 핵심 비율·성장률 계산  (CSV 버전 로직 그대로)\n",
        "# ----------------------------------------------------------------------\n",
        "growth     = (df[\"revenue\"].iloc[-1] / df[\"revenue\"].iloc[0])**(1/(len(df)-1)) - 1\n",
        "ebit_margin = (df[\"ebit\"] / df[\"revenue\"]).mean()\n",
        "tax_rate    = (df[\"tax\"]  / df[\"ebit\"].replace(0, np.nan)).mean()\n",
        "dep_ratio   = (df[\"dep\"]  / df[\"revenue\"]).mean()\n",
        "nwc_ratio   = (df[\"nwc_change\"] / df[\"revenue\"]).mean()\n",
        "\n",
        "# ----------------------------------------------------------------------\n",
        "# 3. 5년 Forecast → FCF\n",
        "# ----------------------------------------------------------------------\n",
        "future_rev = [df[\"revenue\"].iloc[-1] * (1 + growth)**i for i in range(1, YEARS_FC + 1)]\n",
        "fcf = []\n",
        "for rev in future_rev:\n",
        "    ebit_at = rev * ebit_margin * (1 - tax_rate)\n",
        "    dep     = rev * dep_ratio\n",
        "    capex   = dep                  # 유지 CapEx만 있다고 가정\n",
        "    d_nwc   = rev * nwc_ratio\n",
        "    fcf.append(ebit_at + dep - capex - d_nwc)\n",
        "\n",
        "# ----------------------------------------------------------------------\n",
        "# 4. DCF\n",
        "# ----------------------------------------------------------------------\n",
        "discounts = [(1 + WACC)**i for i in range(1, YEARS_FC + 1)]\n",
        "pv_fcf = np.sum([c / d for c, d in zip(fcf, discounts)])\n",
        "\n",
        "terminal      = fcf[-1] * (1 + G_TERMINAL) / (WACC - G_TERMINAL)\n",
        "pv_terminal   = terminal / discounts[-1]\n",
        "\n",
        "dcf_value = pv_fcf + pv_terminal\n",
        "\n",
        "# ----------------------------------------------------------------------\n",
        "# 5. 출력\n",
        "# ----------------------------------------------------------------------\n",
        "print(\"===== HISTORICAL SNAPSHOT ({} yrs) =====\".format(len(df)))\n",
        "print(df.T, \"\\n\")\n",
        "\n",
        "proj = pd.DataFrame({\"Revenue\": future_rev, \"FCF\": fcf},\n",
        "                    index=[f\"Y{i}\" for i in range(1, YEARS_FC + 1)])\n",
        "print(\"===== 5-YEAR PROJECTION =====\")\n",
        "print(proj, \"\\n\")\n",
        "\n",
        "print(f\"📌 DCF Enterprise Value ({TICKER}):  {dcf_value:,.0f} USD\")\n"
      ],
      "metadata": {
        "colab": {
          "base_uri": "https://localhost:8080/"
        },
        "id": "05Ef5EMe-pLv",
        "outputId": "98ed730f-907a-4899-fd35-4346ecda26c6"
      },
      "execution_count": 36,
      "outputs": [
        {
          "output_type": "stream",
          "name": "stdout",
          "text": [
            "===== HISTORICAL SNAPSHOT (4 yrs) =====\n",
            "              2021-09-30    2022-09-30    2023-09-30    2024-09-30\n",
            "revenue     3.658170e+11  3.943280e+11  3.832850e+11  3.910350e+11\n",
            "ebit        1.089490e+11  1.194370e+11  1.143010e+11  1.232160e+11\n",
            "tax         1.452700e+10  1.930000e+10  1.674100e+10  2.974900e+10\n",
            "dep         1.128400e+10  1.110400e+10  1.151900e+10  1.144500e+10\n",
            "nwc_change -4.911000e+09  1.200000e+09 -6.577000e+09  3.651000e+09 \n",
            "\n",
            "===== 5-YEAR PROJECTION =====\n",
            "         Revenue           FCF\n",
            "Y1  3.998216e+11  1.024531e+11\n",
            "Y2  4.088056e+11  1.047552e+11\n",
            "Y3  4.179914e+11  1.071091e+11\n",
            "Y4  4.273837e+11  1.095158e+11\n",
            "Y5  4.369870e+11  1.119766e+11 \n",
            "\n",
            "📌 DCF Enterprise Value (AAPL):  1,475,699,302,003 USD\n"
          ]
        }
      ]
    },
    {
      "cell_type": "code",
      "source": [
        "##############################################################################\n",
        "# 6. Net Debt, Equity Value, Intrinsic Price  ─────────────\n",
        "##############################################################################\n",
        "# ▸ Balance Sheet에서 총부채·현금 가져오기\n",
        "bs = tk.balance_sheet.iloc[:, 0]            # 가장 최근 연도 한 열만 사용\n",
        "\n",
        "def pick(bs_row, *labels):\n",
        "    for lab in labels:\n",
        "        if lab in bs.index:\n",
        "            return bs[lab]\n",
        "    return np.nan\n",
        "\n",
        "total_debt = pick(bs,\n",
        "                  \"Total Debt\",\n",
        "                  \"Long Term Debt\",\n",
        "                  \"Long Term Debt & Capital Lease Obligation\")     # fallback\n",
        "cash_equiv = pick(bs,\n",
        "                  \"Cash And Cash Equivalents\",\n",
        "                  \"Cash And Cash Equivalents At Carrying Value\",\n",
        "                  \"Cash\")\n",
        "\n",
        "net_debt = total_debt - cash_equiv       # (–) 순현금일 수도 있음\n",
        "\n",
        "# ▸ Equity Value = EV – Net Debt\n",
        "equity_value = dcf_value - net_debt\n",
        "\n",
        "# ▸ 주식수 (希f info가 더 최신)  – 단위: 주\n",
        "shares_out = tk.get_info()[\"sharesOutstanding\"]   # yfinance v0.2 이상 권장\n",
        "# fallback: Diluted Average Shares (가장 최근 연도)\n",
        "if shares_out is None:\n",
        "    shares_out = grab_row(inc, \"Diluted Average Shares\",\n",
        "                               \"Basic Average Shares\").iloc[0]\n",
        "\n",
        "intrinsic_price = equity_value / shares_out\n",
        "\n",
        "##############################################################################\n",
        "# 7. 시장가격과 비교  ─────────────\n",
        "##############################################################################\n",
        "last_close = tk.history(period=\"1d\")[\"Close\"].iloc[-1]\n",
        "premium_pct = (intrinsic_price - last_close) / last_close * 100\n",
        "\n",
        "##############################################################################\n",
        "# 8. 결과 출력\n",
        "##############################################################################\n",
        "print(\"===== VALUATION SUMMARY =====\")\n",
        "print(f\"Enterprise Value (DCF)   : {dcf_value:,.0f} USD\")\n",
        "print(f\"  – Net Debt             : {net_debt:,.0f} USD\")\n",
        "print(f\"Equity Value             : {equity_value:,.0f} USD\")\n",
        "print(f\"Shares Outstanding       : {shares_out:,.0f} 주\")\n",
        "print(f\"▶ Intrinsic Value / Share: {intrinsic_price:,.2f} USD\\n\")\n",
        "\n",
        "print(\"===== MARKET COMPARISON =====\")\n",
        "print(f\"Last Close Price         : {last_close:,.2f} USD\")\n",
        "print(f\"Premium / (Discount)     : {premium_pct:,.2f} %\")\n"
      ],
      "metadata": {
        "colab": {
          "base_uri": "https://localhost:8080/"
        },
        "id": "l-hjhrv0-plv",
        "outputId": "347a6751-a268-4a0a-877b-78271493dbe9"
      },
      "execution_count": 41,
      "outputs": [
        {
          "output_type": "stream",
          "name": "stdout",
          "text": [
            "===== VALUATION SUMMARY =====\n",
            "Enterprise Value (DCF)   : 1,475,699,302,003 USD\n",
            "  – Net Debt             : 76,686,000,000 USD\n",
            "Equity Value             : 1,399,013,302,003 USD\n",
            "Shares Outstanding       : 14,935,799,808 주\n",
            "▶ Intrinsic Value / Share: 93.67 USD\n",
            "\n",
            "===== MARKET COMPARISON =====\n",
            "Last Close Price         : 201.45 USD\n",
            "Premium / (Discount)     : -53.50 %\n"
          ]
        }
      ]
    },
    {
      "cell_type": "code",
      "source": [],
      "metadata": {
        "id": "brnwvvZq_KjD"
      },
      "execution_count": null,
      "outputs": []
    }
  ]
}